{
  "cells": [
    {
      "cell_type": "markdown",
      "metadata": {
        "id": "cgwXbcLQz1cF"
      },
      "source": [
        "# Matrix Operations Exercises\n",
        "\n"
      ]
    },
    {
      "cell_type": "code",
      "execution_count": null,
      "metadata": {
        "id": "go588P1uz1cG"
      },
      "outputs": [],
      "source": [
        "import numpy as np"
      ]
    },
    {
      "cell_type": "markdown",
      "metadata": {
        "id": "BBkPSgkdz1cH"
      },
      "source": [
        "## Exercise 1: Matrix Addition & Subtraction"
      ]
    },
    {
      "cell_type": "code",
      "execution_count": null,
      "metadata": {
        "id": "JvuLiqjFz1cH"
      },
      "outputs": [],
      "source": [
        "# Define two 3x3 matrices\n",
        "A = np.array([[1, 2, 3],\n",
        "              [4, 5, 6],\n",
        "              [7, 8, 9]])\n",
        "\n",
        "B = np.array([[9, 8, 7],\n",
        "              [6, 5, 4],\n",
        "              [3, 2, 1]])\n",
        "\n",
        "# Perform addition\n",
        "addition_result = A + B\n",
        "print(\"Matrix Addition (A + B):\")\n",
        "print(addition_result)\n",
        "\n",
        "# Perform subtraction\n",
        "subtraction_result = A - B\n",
        "print(\"\\nMatrix Subtraction (A - B):\")\n",
        "print(subtraction_result)"
      ]
    },
    {
      "cell_type": "markdown",
      "metadata": {
        "id": "q7a7dsIkz1cH"
      },
      "source": [
        "## Exercise 2: Matrix Multiplication"
      ]
    },
    {
      "cell_type": "code",
      "execution_count": null,
      "metadata": {
        "id": "5bJepoG4z1cH"
      },
      "outputs": [],
      "source": [
        "# Define a 2x3 matrix\n",
        "C = np.array([[1, 2, 3],\n",
        "              [4, 5, 6]])\n",
        "\n",
        "# Define a 3x2 matrix\n",
        "D = np.array([[7, 8],\n",
        "              [9, 10],\n",
        "              [11, 12]])\n",
        "\n",
        "# Perform matrix multiplication\n",
        "multiplication_result = np.dot(C, D)\n",
        "print(\"Matrix Multiplication (C * D):\")\n",
        "print(multiplication_result)"
      ]
    },
    {
      "cell_type": "markdown",
      "metadata": {
        "id": "yL29mTQ_z1cH"
      },
      "source": [
        "## Exercise 3: Matrix Transpose"
      ]
    },
    {
      "cell_type": "code",
      "execution_count": null,
      "metadata": {
        "id": "eqwV_jk1z1cI"
      },
      "outputs": [],
      "source": [
        "# Create a 2x3 matrix\n",
        "E = np.array([[1, 2, 3],\n",
        "              [4, 5, 6]])\n",
        "\n",
        "# Find and print its transpose\n",
        "transpose_result = E.T\n",
        "print(\"Original Matrix E:\")\n",
        "print(E)\n",
        "print(\"\\nTranspose of Matrix E:\")\n",
        "print(transpose_result)"
      ]
    },
    {
      "cell_type": "markdown",
      "metadata": {
        "id": "MCHe_2Wez1cI"
      },
      "source": [
        "## Exercise 4: Calculating the Determinant"
      ]
    },
    {
      "cell_type": "code",
      "execution_count": null,
      "metadata": {
        "id": "4nsMDQbaz1cI"
      },
      "outputs": [],
      "source": [
        "# Create a 3x3 matrix\n",
        "F = np.array([[1, 2, 3],\n",
        "              [4, 5, 6],\n",
        "              [7, 8, 9]])\n",
        "\n",
        "# Calculate and print its determinant\n",
        "determinant = np.linalg.det(F)\n",
        "print(\"Matrix F:\")\n",
        "print(F)\n",
        "print(f\"\\nDeterminant of Matrix F: {determinant}\")"
      ]
    },
    {
      "cell_type": "markdown",
      "metadata": {
        "id": "zJKF0WQJz1cI"
      },
      "source": [
        "## Exercise 5: Finding the Inverse"
      ]
    },
    {
      "cell_type": "code",
      "execution_count": null,
      "metadata": {
        "id": "q6dzM2UPz1cI"
      },
      "outputs": [],
      "source": [
        "# Create a 2x2 invertible matrix\n",
        "G = np.array([[4, 7],\n",
        "              [2, 6]])\n",
        "\n",
        "# Calculate and print its inverse\n",
        "inverse = np.linalg.inv(G)\n",
        "print(\"Matrix G:\")\n",
        "print(G)\n",
        "print(\"\\nInverse of Matrix G:\")\n",
        "print(inverse)\n",
        "\n",
        "# Verify the inverse\n",
        "print(\"\\nVerification (G * G^-1 should be close to the identity matrix):\")\n",
        "print(np.dot(G, inverse))"
      ]
    }
  ],
  "metadata": {
    "kernelspec": {
      "display_name": "Python 3",
      "language": "python",
      "name": "python3"
    },
    "language_info": {
      "codemirror_mode": {
        "name": "ipython",
        "version": 3
      },
      "file_extension": ".py",
      "mimetype": "text/x-python",
      "name": "python",
      "nbconvert_exporter": "python",
      "pygments_lexer": "ipython3",
      "version": "3.8.5"
    },
    "colab": {
      "provenance": []
    }
  },
  "nbformat": 4,
  "nbformat_minor": 0
}